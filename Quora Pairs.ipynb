{
 "cells": [
  {
   "cell_type": "markdown",
   "metadata": {},
   "source": [
    "# Load Quora Data"
   ]
  },
  {
   "cell_type": "markdown",
   "metadata": {},
   "source": [
    "- id - the id of a training set question pair\n",
    "- qid1, qid2 - unique ids of each question (only available in train.csv)\n",
    "- question1, question2 - the full text of each question\n",
    "- is_duplicate - the target variable,\n",
    "- set to 1 if question1 and question2 have essentially the same meaning, and 0 otherwise."
   ]
  },
  {
   "cell_type": "code",
   "execution_count": 7,
   "metadata": {
    "collapsed": true
   },
   "outputs": [],
   "source": [
    "import pandas as pd\n",
    "import numpy as np"
   ]
  },
  {
   "cell_type": "code",
   "execution_count": 3,
   "metadata": {
    "collapsed": false
   },
   "outputs": [],
   "source": [
    "train = pd.read_csv('train.csv')"
   ]
  },
  {
   "cell_type": "code",
   "execution_count": 4,
   "metadata": {
    "collapsed": false
   },
   "outputs": [
    {
     "data": {
      "text/plain": [
       "(404290, 6)"
      ]
     },
     "execution_count": 4,
     "metadata": {},
     "output_type": "execute_result"
    }
   ],
   "source": [
    "train.shape"
   ]
  },
  {
   "cell_type": "code",
   "execution_count": 5,
   "metadata": {
    "collapsed": false
   },
   "outputs": [
    {
     "data": {
      "text/html": [
       "<div>\n",
       "<table border=\"1\" class=\"dataframe\">\n",
       "  <thead>\n",
       "    <tr style=\"text-align: right;\">\n",
       "      <th></th>\n",
       "      <th>id</th>\n",
       "      <th>qid1</th>\n",
       "      <th>qid2</th>\n",
       "      <th>question1</th>\n",
       "      <th>question2</th>\n",
       "      <th>is_duplicate</th>\n",
       "    </tr>\n",
       "  </thead>\n",
       "  <tbody>\n",
       "    <tr>\n",
       "      <th>0</th>\n",
       "      <td>0</td>\n",
       "      <td>1</td>\n",
       "      <td>2</td>\n",
       "      <td>What is the step by step guide to invest in sh...</td>\n",
       "      <td>What is the step by step guide to invest in sh...</td>\n",
       "      <td>0</td>\n",
       "    </tr>\n",
       "    <tr>\n",
       "      <th>1</th>\n",
       "      <td>1</td>\n",
       "      <td>3</td>\n",
       "      <td>4</td>\n",
       "      <td>What is the story of Kohinoor (Koh-i-Noor) Dia...</td>\n",
       "      <td>What would happen if the Indian government sto...</td>\n",
       "      <td>0</td>\n",
       "    </tr>\n",
       "    <tr>\n",
       "      <th>2</th>\n",
       "      <td>2</td>\n",
       "      <td>5</td>\n",
       "      <td>6</td>\n",
       "      <td>How can I increase the speed of my internet co...</td>\n",
       "      <td>How can Internet speed be increased by hacking...</td>\n",
       "      <td>0</td>\n",
       "    </tr>\n",
       "    <tr>\n",
       "      <th>3</th>\n",
       "      <td>3</td>\n",
       "      <td>7</td>\n",
       "      <td>8</td>\n",
       "      <td>Why am I mentally very lonely? How can I solve...</td>\n",
       "      <td>Find the remainder when [math]23^{24}[/math] i...</td>\n",
       "      <td>0</td>\n",
       "    </tr>\n",
       "    <tr>\n",
       "      <th>4</th>\n",
       "      <td>4</td>\n",
       "      <td>9</td>\n",
       "      <td>10</td>\n",
       "      <td>Which one dissolve in water quikly sugar, salt...</td>\n",
       "      <td>Which fish would survive in salt water?</td>\n",
       "      <td>0</td>\n",
       "    </tr>\n",
       "  </tbody>\n",
       "</table>\n",
       "</div>"
      ],
      "text/plain": [
       "   id  qid1  qid2                                          question1  \\\n",
       "0   0     1     2  What is the step by step guide to invest in sh...   \n",
       "1   1     3     4  What is the story of Kohinoor (Koh-i-Noor) Dia...   \n",
       "2   2     5     6  How can I increase the speed of my internet co...   \n",
       "3   3     7     8  Why am I mentally very lonely? How can I solve...   \n",
       "4   4     9    10  Which one dissolve in water quikly sugar, salt...   \n",
       "\n",
       "                                           question2  is_duplicate  \n",
       "0  What is the step by step guide to invest in sh...             0  \n",
       "1  What would happen if the Indian government sto...             0  \n",
       "2  How can Internet speed be increased by hacking...             0  \n",
       "3  Find the remainder when [math]23^{24}[/math] i...             0  \n",
       "4            Which fish would survive in salt water?             0  "
      ]
     },
     "execution_count": 5,
     "metadata": {},
     "output_type": "execute_result"
    }
   ],
   "source": [
    "train.head()"
   ]
  },
  {
   "cell_type": "markdown",
   "metadata": {},
   "source": [
    "# Load Gl0ve Data"
   ]
  },
  {
   "cell_type": "code",
   "execution_count": 8,
   "metadata": {
    "collapsed": false
   },
   "outputs": [
    {
     "name": "stdout",
     "output_type": "stream",
     "text": [
      "Found 400000 word vectors.\n"
     ]
    }
   ],
   "source": [
    "embeddings_index = {}\n",
    "f = open('glove.6B.100d.txt')\n",
    "for line in f:\n",
    "    values = line.split()\n",
    "    word = values[0]\n",
    "    coefs = np.asarray(values[1:], dtype='float32')\n",
    "    embeddings_index[word] = coefs\n",
    "f.close()\n",
    "\n",
    "print('Found %s word vectors.' % len(embeddings_index))"
   ]
  },
  {
   "cell_type": "markdown",
   "metadata": {},
   "source": [
    "## Decompose questions into vector Sets"
   ]
  },
  {
   "cell_type": "code",
   "execution_count": 18,
   "metadata": {
    "collapsed": false
   },
   "outputs": [
    {
     "data": {
      "text/plain": [
       "array([-0.54263997,  0.41475999,  1.03219998, -0.40244001,  0.46691   ,\n",
       "        0.21816   , -0.074864  ,  0.47332001,  0.080996  , -0.22079   ,\n",
       "       -0.12808   , -0.1144    ,  0.50891   ,  0.11568   ,  0.028211  ,\n",
       "       -0.3628    ,  0.43823001,  0.047511  ,  0.20282   ,  0.49857   ,\n",
       "       -0.10068   ,  0.13269   ,  0.16971999,  0.11653   ,  0.31355   ,\n",
       "        0.25713   ,  0.092783  , -0.56826001, -0.52974999, -0.051456  ,\n",
       "       -0.67325997,  0.92532998,  0.26930001,  0.22734   ,  0.66364998,\n",
       "        0.26221001,  0.19719   ,  0.26089999,  0.18774   , -0.34540001,\n",
       "       -0.42635   ,  0.13975   ,  0.56338   , -0.56906998,  0.12398   ,\n",
       "       -0.12894   ,  0.72483999, -0.26104999, -0.26313999, -0.43605   ,\n",
       "        0.078908  , -0.84145999,  0.51595002,  1.39970005, -0.76459998,\n",
       "       -3.14529991, -0.29201999, -0.31246999,  1.51289999,  0.52434999,\n",
       "        0.21456   ,  0.42451999, -0.088411  , -0.17805   ,  1.18760002,\n",
       "        0.10579   ,  0.76571   ,  0.21913999,  0.35824001, -0.11636   ,\n",
       "        0.093261  , -0.62483001, -0.21898   ,  0.21796   ,  0.74056   ,\n",
       "       -0.43735   ,  0.14342999,  0.14719   , -1.16050005, -0.050508  ,\n",
       "        0.12677   , -0.014395  , -0.98676002, -0.091297  , -1.20539999,\n",
       "       -0.11974   ,  0.047847  , -0.54000998,  0.52456999, -0.70963001,\n",
       "       -0.32528001, -0.1346    , -0.41314   ,  0.33434999, -0.0072412 ,\n",
       "        0.32253   , -0.044219  , -1.29690003,  0.76217002,  0.46349001], dtype=float32)"
      ]
     },
     "execution_count": 18,
     "metadata": {},
     "output_type": "execute_result"
    }
   ],
   "source": [
    "embeddings_index[\"is\"]"
   ]
  },
  {
   "cell_type": "code",
   "execution_count": 69,
   "metadata": {
    "collapsed": false
   },
   "outputs": [
    {
     "name": "stdout",
     "output_type": "stream",
     "text": [
      "What is the step by step guide to invest in share market in india?\n"
     ]
    }
   ],
   "source": [
    "import re, string\n",
    "sentence = train.iloc[0].question1\n",
    "print sentence\n",
    "\n",
    "def w2v(sentence):\n",
    "    s_w2v = []\n",
    "    try:\n",
    "        sentence.split(\" \")\n",
    "    except:\n",
    "        return [0]\n",
    "    for word in sentence.split(\" \"):\n",
    "        s = word.lower()\n",
    "        s = s.translate(None, string.punctuation)\n",
    "        try:\n",
    "            s_w2v.append(embeddings_index[s])\n",
    "        except:\n",
    "            continue\n",
    "#             print \"{} not found\".format(word)\n",
    "    return s_w2v\n",
    "    "
   ]
  },
  {
   "cell_type": "code",
   "execution_count": 67,
   "metadata": {
    "collapsed": false
   },
   "outputs": [
    {
     "name": "stdout",
     "output_type": "stream",
     "text": [
      "What is the step by step guide to invest in share market in india?\n"
     ]
    }
   ],
   "source": [
    "train['s1_w2v'] = train['question1'].apply(lambda sentence: w2v(sentence))"
   ]
  },
  {
   "cell_type": "code",
   "execution_count": 70,
   "metadata": {
    "collapsed": false
   },
   "outputs": [],
   "source": [
    "train['q2_w2v'] = train['question2'].apply(lambda sentence: w2v(sentence))"
   ]
  },
  {
   "cell_type": "code",
   "execution_count": 71,
   "metadata": {
    "collapsed": false
   },
   "outputs": [
    {
     "data": {
      "text/html": [
       "<div>\n",
       "<table border=\"1\" class=\"dataframe\">\n",
       "  <thead>\n",
       "    <tr style=\"text-align: right;\">\n",
       "      <th></th>\n",
       "      <th>id</th>\n",
       "      <th>qid1</th>\n",
       "      <th>qid2</th>\n",
       "      <th>question1</th>\n",
       "      <th>question2</th>\n",
       "      <th>is_duplicate</th>\n",
       "      <th>s1_w2v</th>\n",
       "      <th>cosine_similarity</th>\n",
       "      <th>sum1</th>\n",
       "      <th>x</th>\n",
       "      <th>q2_w2v</th>\n",
       "    </tr>\n",
       "  </thead>\n",
       "  <tbody>\n",
       "    <tr>\n",
       "      <th>0</th>\n",
       "      <td>0</td>\n",
       "      <td>1</td>\n",
       "      <td>2</td>\n",
       "      <td>What is the step by step guide to invest in sh...</td>\n",
       "      <td>What is the step by step guide to invest in sh...</td>\n",
       "      <td>0</td>\n",
       "      <td>[[-0.1518, 0.38409, 0.8934, -0.42421, -0.92161...</td>\n",
       "      <td>NaN</td>\n",
       "      <td>-50.596165</td>\n",
       "      <td>1</td>\n",
       "      <td>[[-0.1518, 0.38409, 0.8934, -0.42421, -0.92161...</td>\n",
       "    </tr>\n",
       "    <tr>\n",
       "      <th>1</th>\n",
       "      <td>1</td>\n",
       "      <td>3</td>\n",
       "      <td>4</td>\n",
       "      <td>What is the story of Kohinoor (Koh-i-Noor) Dia...</td>\n",
       "      <td>What would happen if the Indian government sto...</td>\n",
       "      <td>0</td>\n",
       "      <td>[[-0.1518, 0.38409, 0.8934, -0.42421, -0.92161...</td>\n",
       "      <td>NaN</td>\n",
       "      <td>-0.227900</td>\n",
       "      <td>1</td>\n",
       "      <td>[[-0.1518, 0.38409, 0.8934, -0.42421, -0.92161...</td>\n",
       "    </tr>\n",
       "    <tr>\n",
       "      <th>2</th>\n",
       "      <td>2</td>\n",
       "      <td>5</td>\n",
       "      <td>6</td>\n",
       "      <td>How can I increase the speed of my internet co...</td>\n",
       "      <td>How can Internet speed be increased by hacking...</td>\n",
       "      <td>0</td>\n",
       "      <td>[[-0.23769, 0.59392, 0.58697, -0.041788, -0.86...</td>\n",
       "      <td>NaN</td>\n",
       "      <td>9.523548</td>\n",
       "      <td>1</td>\n",
       "      <td>[[-0.23769, 0.59392, 0.58697, -0.041788, -0.86...</td>\n",
       "    </tr>\n",
       "    <tr>\n",
       "      <th>3</th>\n",
       "      <td>3</td>\n",
       "      <td>7</td>\n",
       "      <td>8</td>\n",
       "      <td>Why am I mentally very lonely? How can I solve...</td>\n",
       "      <td>Find the remainder when [math]23^{24}[/math] i...</td>\n",
       "      <td>0</td>\n",
       "      <td>[[0.1845, 0.51461, 0.65342, -0.42173, -0.8143,...</td>\n",
       "      <td>NaN</td>\n",
       "      <td>-22.359777</td>\n",
       "      <td>1</td>\n",
       "      <td>[[-0.13778, 0.47448, 0.30845, -0.0065366, -0.3...</td>\n",
       "    </tr>\n",
       "    <tr>\n",
       "      <th>4</th>\n",
       "      <td>4</td>\n",
       "      <td>9</td>\n",
       "      <td>10</td>\n",
       "      <td>Which one dissolve in water quikly sugar, salt...</td>\n",
       "      <td>Which fish would survive in salt water?</td>\n",
       "      <td>0</td>\n",
       "      <td>[[0.03024, 0.44606, 0.43166, -0.37528, 0.29068...</td>\n",
       "      <td>NaN</td>\n",
       "      <td>-15.793522</td>\n",
       "      <td>1</td>\n",
       "      <td>[[0.03024, 0.44606, 0.43166, -0.37528, 0.29068...</td>\n",
       "    </tr>\n",
       "  </tbody>\n",
       "</table>\n",
       "</div>"
      ],
      "text/plain": [
       "   id  qid1  qid2                                          question1  \\\n",
       "0   0     1     2  What is the step by step guide to invest in sh...   \n",
       "1   1     3     4  What is the story of Kohinoor (Koh-i-Noor) Dia...   \n",
       "2   2     5     6  How can I increase the speed of my internet co...   \n",
       "3   3     7     8  Why am I mentally very lonely? How can I solve...   \n",
       "4   4     9    10  Which one dissolve in water quikly sugar, salt...   \n",
       "\n",
       "                                           question2  is_duplicate  \\\n",
       "0  What is the step by step guide to invest in sh...             0   \n",
       "1  What would happen if the Indian government sto...             0   \n",
       "2  How can Internet speed be increased by hacking...             0   \n",
       "3  Find the remainder when [math]23^{24}[/math] i...             0   \n",
       "4            Which fish would survive in salt water?             0   \n",
       "\n",
       "                                              s1_w2v cosine_similarity  \\\n",
       "0  [[-0.1518, 0.38409, 0.8934, -0.42421, -0.92161...               NaN   \n",
       "1  [[-0.1518, 0.38409, 0.8934, -0.42421, -0.92161...               NaN   \n",
       "2  [[-0.23769, 0.59392, 0.58697, -0.041788, -0.86...               NaN   \n",
       "3  [[0.1845, 0.51461, 0.65342, -0.42173, -0.8143,...               NaN   \n",
       "4  [[0.03024, 0.44606, 0.43166, -0.37528, 0.29068...               NaN   \n",
       "\n",
       "        sum1  x                                             q2_w2v  \n",
       "0 -50.596165  1  [[-0.1518, 0.38409, 0.8934, -0.42421, -0.92161...  \n",
       "1  -0.227900  1  [[-0.1518, 0.38409, 0.8934, -0.42421, -0.92161...  \n",
       "2   9.523548  1  [[-0.23769, 0.59392, 0.58697, -0.041788, -0.86...  \n",
       "3 -22.359777  1  [[-0.13778, 0.47448, 0.30845, -0.0065366, -0.3...  \n",
       "4 -15.793522  1  [[0.03024, 0.44606, 0.43166, -0.37528, 0.29068...  "
      ]
     },
     "execution_count": 71,
     "metadata": {},
     "output_type": "execute_result"
    }
   ],
   "source": [
    "train.head()"
   ]
  },
  {
   "cell_type": "markdown",
   "metadata": {},
   "source": [
    "## Find Cosine Distance between Questions"
   ]
  },
  {
   "cell_type": "code",
   "execution_count": 101,
   "metadata": {
    "collapsed": false
   },
   "outputs": [
    {
     "data": {
      "text/plain": [
       "[0.0, 0.0, -2.5939578485179027e-08, -9.0480792636071783e-08]"
      ]
     },
     "execution_count": 101,
     "metadata": {},
     "output_type": "execute_result"
    }
   ],
   "source": [
    "from scipy.spatial.distance import cosine\n",
    "from scipy.spatial import distance\n",
    "\n",
    "\n",
    "def compute_distance(u,v):\n",
    "    u, v = embeddings_index[u], embeddings_index[v]\n",
    "    def func(arg):\n",
    "        return arg(u,v)\n",
    "    return func\n",
    "\n",
    "map(compute_distance('president', 'president'), [\n",
    "            scipy.spatial.distance.braycurtis, \n",
    "            scipy.spatial.distance.euclidean, \n",
    "            scipy.spatial.distance.correlation, \n",
    "            scipy.spatial.distance.cosine])"
   ]
  },
  {
   "cell_type": "code",
   "execution_count": 81,
   "metadata": {
    "collapsed": false
   },
   "outputs": [],
   "source": [
    "def similar_questions(q1, q2):\n",
    "    try:\n",
    "        return cosine(np.sum(q1), np.sum(q2))\n",
    "    except:\n",
    "        return np.array()"
   ]
  },
  {
   "cell_type": "code",
   "execution_count": 56,
   "metadata": {
    "collapsed": false
   },
   "outputs": [
    {
     "data": {
      "text/plain": [
       "2.0000000029710243"
      ]
     },
     "execution_count": 56,
     "metadata": {},
     "output_type": "execute_result"
    }
   ],
   "source": [
    "q1 = train['s1_w2v'].iloc[0]\n",
    "q2 = train['s1_w2v'].iloc[2]\n",
    "\n",
    "similar_questions(q1, q2)"
   ]
  },
  {
   "cell_type": "code",
   "execution_count": 76,
   "metadata": {
    "collapsed": true
   },
   "outputs": [],
   "source": [
    "train['sum1'] = train.s1_w2v.apply(lambda x: np.sum(x, axis=0))"
   ]
  },
  {
   "cell_type": "code",
   "execution_count": 78,
   "metadata": {
    "collapsed": false
   },
   "outputs": [],
   "source": [
    "train['sum2'] = train.q2_w2v.apply(lambda x: np.sum(x, axis=0))"
   ]
  },
  {
   "cell_type": "code",
   "execution_count": 79,
   "metadata": {
    "collapsed": false
   },
   "outputs": [
    {
     "data": {
      "text/html": [
       "<div>\n",
       "<table border=\"1\" class=\"dataframe\">\n",
       "  <thead>\n",
       "    <tr style=\"text-align: right;\">\n",
       "      <th></th>\n",
       "      <th>id</th>\n",
       "      <th>qid1</th>\n",
       "      <th>qid2</th>\n",
       "      <th>question1</th>\n",
       "      <th>question2</th>\n",
       "      <th>is_duplicate</th>\n",
       "      <th>s1_w2v</th>\n",
       "      <th>cosine_similarity</th>\n",
       "      <th>sum1</th>\n",
       "      <th>x</th>\n",
       "      <th>q2_w2v</th>\n",
       "      <th>sum2</th>\n",
       "    </tr>\n",
       "  </thead>\n",
       "  <tbody>\n",
       "    <tr>\n",
       "      <th>0</th>\n",
       "      <td>0</td>\n",
       "      <td>1</td>\n",
       "      <td>2</td>\n",
       "      <td>What is the step by step guide to invest in sh...</td>\n",
       "      <td>What is the step by step guide to invest in sh...</td>\n",
       "      <td>0</td>\n",
       "      <td>[[-0.1518, 0.38409, 0.8934, -0.42421, -0.92161...</td>\n",
       "      <td>NaN</td>\n",
       "      <td>[-1.34202, 1.35613, 5.45662, 1.91644, 1.53763,...</td>\n",
       "      <td>1</td>\n",
       "      <td>[[-0.1518, 0.38409, 0.8934, -0.42421, -0.92161...</td>\n",
       "      <td>[-0.468055, 1.27019, 4.39041, 0.746311, 1.1517...</td>\n",
       "    </tr>\n",
       "    <tr>\n",
       "      <th>1</th>\n",
       "      <td>1</td>\n",
       "      <td>3</td>\n",
       "      <td>4</td>\n",
       "      <td>What is the story of Kohinoor (Koh-i-Noor) Dia...</td>\n",
       "      <td>What would happen if the Indian government sto...</td>\n",
       "      <td>0</td>\n",
       "      <td>[[-0.1518, 0.38409, 0.8934, -0.42421, -0.92161...</td>\n",
       "      <td>NaN</td>\n",
       "      <td>[0.933486, -0.01832, 2.23776, -0.85669, 0.6340...</td>\n",
       "      <td>1</td>\n",
       "      <td>[[-0.1518, 0.38409, 0.8934, -0.42421, -0.92161...</td>\n",
       "      <td>[1.79331, 0.238847, 4.55605, -1.92453, -1.7166...</td>\n",
       "    </tr>\n",
       "  </tbody>\n",
       "</table>\n",
       "</div>"
      ],
      "text/plain": [
       "   id  qid1  qid2                                          question1  \\\n",
       "0   0     1     2  What is the step by step guide to invest in sh...   \n",
       "1   1     3     4  What is the story of Kohinoor (Koh-i-Noor) Dia...   \n",
       "\n",
       "                                           question2  is_duplicate  \\\n",
       "0  What is the step by step guide to invest in sh...             0   \n",
       "1  What would happen if the Indian government sto...             0   \n",
       "\n",
       "                                              s1_w2v cosine_similarity  \\\n",
       "0  [[-0.1518, 0.38409, 0.8934, -0.42421, -0.92161...               NaN   \n",
       "1  [[-0.1518, 0.38409, 0.8934, -0.42421, -0.92161...               NaN   \n",
       "\n",
       "                                                sum1  x  \\\n",
       "0  [-1.34202, 1.35613, 5.45662, 1.91644, 1.53763,...  1   \n",
       "1  [0.933486, -0.01832, 2.23776, -0.85669, 0.6340...  1   \n",
       "\n",
       "                                              q2_w2v  \\\n",
       "0  [[-0.1518, 0.38409, 0.8934, -0.42421, -0.92161...   \n",
       "1  [[-0.1518, 0.38409, 0.8934, -0.42421, -0.92161...   \n",
       "\n",
       "                                                sum2  \n",
       "0  [-0.468055, 1.27019, 4.39041, 0.746311, 1.1517...  \n",
       "1  [1.79331, 0.238847, 4.55605, -1.92453, -1.7166...  "
      ]
     },
     "execution_count": 79,
     "metadata": {},
     "output_type": "execute_result"
    }
   ],
   "source": [
    "train.head(2)"
   ]
  },
  {
   "cell_type": "code",
   "execution_count": 89,
   "metadata": {
    "collapsed": false
   },
   "outputs": [
    {
     "data": {
      "text/html": [
       "<div>\n",
       "<table border=\"1\" class=\"dataframe\">\n",
       "  <thead>\n",
       "    <tr style=\"text-align: right;\">\n",
       "      <th></th>\n",
       "      <th>id</th>\n",
       "      <th>qid1</th>\n",
       "      <th>qid2</th>\n",
       "      <th>question1</th>\n",
       "      <th>question2</th>\n",
       "      <th>is_duplicate</th>\n",
       "      <th>s1_w2v</th>\n",
       "      <th>cosine_similarity</th>\n",
       "      <th>sum1</th>\n",
       "      <th>x</th>\n",
       "      <th>q2_w2v</th>\n",
       "      <th>sum2</th>\n",
       "    </tr>\n",
       "  </thead>\n",
       "  <tbody>\n",
       "    <tr>\n",
       "      <th>0</th>\n",
       "      <td>0</td>\n",
       "      <td>1</td>\n",
       "      <td>2</td>\n",
       "      <td>What is the step by step guide to invest in sh...</td>\n",
       "      <td>What is the step by step guide to invest in sh...</td>\n",
       "      <td>0</td>\n",
       "      <td>[[-0.1518, 0.38409, 0.8934, -0.42421, -0.92161...</td>\n",
       "      <td>-5.620243e-09</td>\n",
       "      <td>[-1.34202, 1.35613, 5.45662, 1.91644, 1.53763,...</td>\n",
       "      <td>1</td>\n",
       "      <td>[[-0.1518, 0.38409, 0.8934, -0.42421, -0.92161...</td>\n",
       "      <td>[-0.468055, 1.27019, 4.39041, 0.746311, 1.1517...</td>\n",
       "    </tr>\n",
       "    <tr>\n",
       "      <th>1</th>\n",
       "      <td>1</td>\n",
       "      <td>3</td>\n",
       "      <td>4</td>\n",
       "      <td>What is the story of Kohinoor (Koh-i-Noor) Dia...</td>\n",
       "      <td>What would happen if the Indian government sto...</td>\n",
       "      <td>0</td>\n",
       "      <td>[[-0.1518, 0.38409, 0.8934, -0.42421, -0.92161...</td>\n",
       "      <td>-2.493152e-08</td>\n",
       "      <td>[0.933486, -0.01832, 2.23776, -0.85669, 0.6340...</td>\n",
       "      <td>1</td>\n",
       "      <td>[[-0.1518, 0.38409, 0.8934, -0.42421, -0.92161...</td>\n",
       "      <td>[1.79331, 0.238847, 4.55605, -1.92453, -1.7166...</td>\n",
       "    </tr>\n",
       "  </tbody>\n",
       "</table>\n",
       "</div>"
      ],
      "text/plain": [
       "   id  qid1  qid2                                          question1  \\\n",
       "0   0     1     2  What is the step by step guide to invest in sh...   \n",
       "1   1     3     4  What is the story of Kohinoor (Koh-i-Noor) Dia...   \n",
       "\n",
       "                                           question2  is_duplicate  \\\n",
       "0  What is the step by step guide to invest in sh...             0   \n",
       "1  What would happen if the Indian government sto...             0   \n",
       "\n",
       "                                              s1_w2v  cosine_similarity  \\\n",
       "0  [[-0.1518, 0.38409, 0.8934, -0.42421, -0.92161...      -5.620243e-09   \n",
       "1  [[-0.1518, 0.38409, 0.8934, -0.42421, -0.92161...      -2.493152e-08   \n",
       "\n",
       "                                                sum1  x  \\\n",
       "0  [-1.34202, 1.35613, 5.45662, 1.91644, 1.53763,...  1   \n",
       "1  [0.933486, -0.01832, 2.23776, -0.85669, 0.6340...  1   \n",
       "\n",
       "                                              q2_w2v  \\\n",
       "0  [[-0.1518, 0.38409, 0.8934, -0.42421, -0.92161...   \n",
       "1  [[-0.1518, 0.38409, 0.8934, -0.42421, -0.92161...   \n",
       "\n",
       "                                                sum2  \n",
       "0  [-0.468055, 1.27019, 4.39041, 0.746311, 1.1517...  \n",
       "1  [1.79331, 0.238847, 4.55605, -1.92453, -1.7166...  "
      ]
     },
     "execution_count": 89,
     "metadata": {},
     "output_type": "execute_result"
    }
   ],
   "source": [
    "train.head(2)"
   ]
  },
  {
   "cell_type": "code",
   "execution_count": 88,
   "metadata": {
    "collapsed": false
   },
   "outputs": [
    {
     "name": "stderr",
     "output_type": "stream",
     "text": [
      "/Users/ingridspielman/.virtualenvs/test/lib/python2.7/site-packages/scipy/spatial/distance.py:326: RuntimeWarning: invalid value encountered in double_scalars\n",
      "  dist = 1.0 - np.dot(u, v) / (norm(u) * norm(v))\n"
     ]
    }
   ],
   "source": [
    "train['cosine_similarity'] = train.apply(lambda x: similar_questions(x[8],x[11]), 1)"
   ]
  },
  {
   "cell_type": "markdown",
   "metadata": {},
   "source": [
    "## Visualize Data"
   ]
  },
  {
   "cell_type": "code",
   "execution_count": 93,
   "metadata": {
    "collapsed": false
   },
   "outputs": [],
   "source": [
    "%matplotlib inline"
   ]
  },
  {
   "cell_type": "code",
   "execution_count": 94,
   "metadata": {
    "collapsed": false
   },
   "outputs": [
    {
     "data": {
      "text/plain": [
       "array([[<matplotlib.axes._subplots.AxesSubplot object at 0x12da00fd0>]], dtype=object)"
      ]
     },
     "execution_count": 94,
     "metadata": {},
     "output_type": "execute_result"
    },
    {
     "data": {
      "image/png": "[encoded data removed]",
      "text/plain": [
       "<matplotlib.figure.Figure at 0x12d9e88d0>"
      ]
     },
     "metadata": {},
     "output_type": "display_data"
    }
   ],
   "source": [
    "train[['cosine_similarity']].hist(bins=10)"
   ]
  },
  {
   "cell_type": "code",
   "execution_count": 95,
   "metadata": {
    "collapsed": true
   },
   "outputs": [],
   "source": [
    "import matplotlib.pyplot as plt"
   ]
  },
  {
   "cell_type": "code",
   "execution_count": 97,
   "metadata": {
    "collapsed": false
   },
   "outputs": [
    {
     "data": {
      "text/plain": [
       "<matplotlib.collections.PathCollection at 0x1234d9a90>"
      ]
     },
     "execution_count": 97,
     "metadata": {},
     "output_type": "execute_result"
    },
    {
     "data": {
      "image/png": "[encoded data removed]",
      "text/plain": [
       "<matplotlib.figure.Figure at 0x1332f48d0>"
      ]
     },
     "metadata": {},
     "output_type": "display_data"
    }
   ],
   "source": [
    "plt.scatter(x='is_duplicate', y='cosine_similarity', data=train, alpha=.1)"
   ]
  },
  {
   "cell_type": "code",
   "execution_count": 99,
   "metadata": {
    "collapsed": false
   },
   "outputs": [
    {
     "data": {
      "text/plain": [
       "0    215359\n",
       "1    134673\n",
       "Name: is_duplicate, dtype: int64"
      ]
     },
     "execution_count": 99,
     "metadata": {},
     "output_type": "execute_result"
    }
   ],
   "source": [
    "train['is_duplicate'][train['cosine_similarity'] < 1].value_counts()"
   ]
  },
  {
   "cell_type": "code",
   "execution_count": 100,
   "metadata": {
    "collapsed": false
   },
   "outputs": [
    {
     "data": {
      "text/plain": [
       "0    39645\n",
       "1    14590\n",
       "Name: is_duplicate, dtype: int64"
      ]
     },
     "execution_count": 100,
     "metadata": {},
     "output_type": "execute_result"
    }
   ],
   "source": [
    "train['is_duplicate'][train['cosine_similarity'] > 1].value_counts()"
   ]
  },
  {
   "cell_type": "code",
   "execution_count": null,
   "metadata": {
    "collapsed": true
   },
   "outputs": [],
   "source": []
  },
  {
   "cell_type": "markdown",
   "metadata": {},
   "source": [
    "# Scrape more Quora Questions"
   ]
  },
  {
   "cell_type": "code",
   "execution_count": null,
   "metadata": {
    "collapsed": true
   },
   "outputs": [],
   "source": []
  },
  {
   "cell_type": "markdown",
   "metadata": {},
   "source": [
    "# Contractions"
   ]
  },
  {
   "cell_type": "code",
   "execution_count": null,
   "metadata": {
    "collapsed": true
   },
   "outputs": [],
   "source": [
    "cList = {\n",
    "  \"ain't\": \"am not\",\n",
    "  \"aren't\": \"are not\",\n",
    "  \"can't\": \"cannot\",\n",
    "  \"can't've\": \"cannot have\",\n",
    "  \"'cause\": \"because\",\n",
    "  \"could've\": \"could have\",\n",
    "  \"couldn't\": \"could not\",\n",
    "  \"couldn't've\": \"could not have\",\n",
    "  \"didn't\": \"did not\",\n",
    "  \"doesn't\": \"does not\",\n",
    "  \"don't\": \"do not\",\n",
    "  \"hadn't\": \"had not\",\n",
    "  \"hadn't've\": \"had not have\",\n",
    "  \"hasn't\": \"has not\",\n",
    "  \"haven't\": \"have not\",\n",
    "  \"he'd\": \"he would\",\n",
    "  \"he'd've\": \"he would have\",\n",
    "  \"he'll\": \"he will\",\n",
    "  \"he'll've\": \"he will have\",\n",
    "  \"he's\": \"he is\",\n",
    "  \"how'd\": \"how did\",\n",
    "  \"how'd'y\": \"how do you\",\n",
    "  \"how'll\": \"how will\",\n",
    "  \"how's\": \"how is\",\n",
    "  \"I'd\": \"I would\",\n",
    "  \"I'd've\": \"I would have\",\n",
    "  \"I'll\": \"I will\",\n",
    "  \"I'll've\": \"I will have\",\n",
    "  \"I'm\": \"I am\",\n",
    "  \"I've\": \"I have\",\n",
    "  \"isn't\": \"is not\",\n",
    "  \"it'd\": \"it had\",\n",
    "  \"it'd've\": \"it would have\",\n",
    "  \"it'll\": \"it will\",\n",
    "  \"it'll've\": \"it will have\",\n",
    "  \"it's\": \"it is\",\n",
    "  \"let's\": \"let us\",\n",
    "  \"ma'am\": \"madam\",\n",
    "  \"mayn't\": \"may not\",\n",
    "  \"might've\": \"might have\",\n",
    "  \"mightn't\": \"might not\",\n",
    "  \"mightn't've\": \"might not have\",\n",
    "  \"must've\": \"must have\",\n",
    "  \"mustn't\": \"must not\",\n",
    "  \"mustn't've\": \"must not have\",\n",
    "  \"needn't\": \"need not\",\n",
    "  \"needn't've\": \"need not have\",\n",
    "  \"o'clock\": \"of the clock\",\n",
    "  \"oughtn't\": \"ought not\",\n",
    "  \"oughtn't've\": \"ought not have\",\n",
    "  \"shan't\": \"shall not\",\n",
    "  \"sha'n't\": \"shall not\",\n",
    "  \"shan't've\": \"shall not have\",\n",
    "  \"she'd\": \"she would\",\n",
    "  \"she'd've\": \"she would have\",\n",
    "  \"she'll\": \"she will\",\n",
    "  \"she'll've\": \"she will have\",\n",
    "  \"she's\": \"she is\",\n",
    "  \"should've\": \"should have\",\n",
    "  \"shouldn't\": \"should not\",\n",
    "  \"shouldn't've\": \"should not have\",\n",
    "  \"so've\": \"so have\",\n",
    "  \"so's\": \"so is\",\n",
    "  \"that'd\": \"that would\",\n",
    "  \"that'd've\": \"that would have\",\n",
    "  \"that's\": \"that is\",\n",
    "  \"there'd\": \"there had\",\n",
    "  \"there'd've\": \"there would have\",\n",
    "  \"there's\": \"there is\",\n",
    "  \"they'd\": \"they would\",\n",
    "  \"they'd've\": \"they would have\",\n",
    "  \"they'll\": \"they will\",\n",
    "  \"they'll've\": \"they will have\",\n",
    "  \"they're\": \"they are\",\n",
    "  \"they've\": \"they have\",\n",
    "  \"to've\": \"to have\",\n",
    "  \"wasn't\": \"was not\",\n",
    "  \"we'd\": \"we had\",\n",
    "  \"we'd've\": \"we would have\",\n",
    "  \"we'll\": \"we will\",\n",
    "  \"we'll've\": \"we will have\",\n",
    "  \"we're\": \"we are\",\n",
    "  \"we've\": \"we have\",\n",
    "  \"weren't\": \"were not\",\n",
    "  \"what'll\": \"what will\",\n",
    "  \"what'll've\": \"what will have\",\n",
    "  \"what're\": \"what are\",\n",
    "  \"what's\": \"what is\",\n",
    "  \"what've\": \"what have\",\n",
    "  \"when's\": \"when is\",\n",
    "  \"when've\": \"when have\",\n",
    "  \"where'd\": \"where did\",\n",
    "  \"where's\": \"where is\",\n",
    "  \"where've\": \"where have\",\n",
    "  \"who'll\": \"who will\",\n",
    "  \"who'll've\": \"who will have\",\n",
    "  \"who's\": \"who is\",\n",
    "  \"who've\": \"who have\",\n",
    "  \"why's\": \"why is\",\n",
    "  \"why've\": \"why have\",\n",
    "  \"will've\": \"will have\",\n",
    "  \"won't\": \"will not\",\n",
    "  \"won't've\": \"will not have\",\n",
    "  \"would've\": \"would have\",\n",
    "  \"wouldn't\": \"would not\",\n",
    "  \"wouldn't've\": \"would not have\",\n",
    "  \"y'all\": \"you all\",\n",
    "  \"y'alls\": \"you alls\",\n",
    "  \"y'all'd\": \"you all would\",\n",
    "  \"y'all'd've\": \"you all would have\",\n",
    "  \"y'all're\": \"you all are\",\n",
    "  \"y'all've\": \"you all have\",\n",
    "  \"you'd\": \"you had\",\n",
    "  \"you'd've\": \"you would have\",\n",
    "  \"you'll\": \"you you will\",\n",
    "  \"you'll've\": \"you you will have\",\n",
    "  \"you're\": \"you are\",\n",
    "  \"you've\": \"you have\"\n",
    "}"
   ]
  }
 ],
 "metadata": {
  "kernelspec": {
   "display_name": "Python 2",
   "language": "python",
   "name": "python2"
  },
  "language_info": {
   "codemirror_mode": {
    "name": "ipython",
    "version": 2
   },
   "file_extension": ".py",
   "mimetype": "text/x-python",
   "name": "python",
   "nbconvert_exporter": "python",
   "pygments_lexer": "ipython2",
   "version": "2.7.10"
  }
 },
 "nbformat": 4,
 "nbformat_minor": 2
}
